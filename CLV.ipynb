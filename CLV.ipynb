{
 "cells": [
  {
   "cell_type": "markdown",
   "source": [
    "# Customer Lifetime Value (CLV) Analysis"
   ],
   "metadata": {}
  },
  {
   "cell_type": "markdown",
   "source": [
    "In this case study, we are going to work with the online-retail dataset from [Kaggle]('https://www.kaggle.com/vijayuv/onlineretail').\r\n",
    "\r\n",
    "This is a transnational data containing all the transactions occurring between 01/12/2010 and 09/12/2011 for a UK-based. Attribute Information\r\n",
    "* *InvoiceNo*: Invoice number. Nominal, a 6-digit integral number uniquely assigned to each transaction. If this code starts with letter 'c', it indicates a cancellation.\r\n",
    "\r\n",
    "* *StockCode*: Product (item) code. Nominal, a 5-digit integral number uniquely assigned to each distinct product.\r\n",
    "\r\n",
    "* *Description*: Product (item) name. Nominal.\r\n",
    "\r\n",
    "* *Quantity*: The quantities of each product (item) per transaction. Numeric.\r\n",
    "\r\n",
    "* *InvoiceDate*: Invoice Date and time. Numeric, the day and time when each transaction was generated.\r\n",
    "\r\n",
    "* *UnitPrice*: Unit price. Numeric, Product price per unit in sterling.\r\n",
    "\r\n",
    "* *CustomerID*: Customer number. Nominal, a 5-digit integral number uniquely assigned to each customer.\r\n",
    "\r\n",
    "* *Country*: Country name. Nominal, the name of the country where each customer resides."
   ],
   "metadata": {}
  },
  {
   "cell_type": "code",
   "execution_count": 1,
   "source": [
    "# Importing necessary libraries\r\n",
    "import pandas as pd\r\n",
    "import numpy as np\r\n",
    "import matplotlib.pyplot as plt\r\n",
    "import seaborn as sns\r\n",
    "sns.set(style='whitegrid')\r\n",
    "%matplotlib inline\r\n",
    "\r\n",
    "import warnings\r\n",
    "warnings.filterwarnings('ignore')"
   ],
   "outputs": [],
   "metadata": {}
  },
  {
   "cell_type": "code",
   "execution_count": 2,
   "source": [
    "# Loading the df\r\n",
    "df = pd.read_csv(\"OnlineRetail.csv\", encoding = \"unicode_escape\", parse_dates = ['InvoiceDate'])\r\n",
    "print(\"Data total records: \"+ str(df.shape[0]))\r\n",
    "\r\n",
    "df['Revenue'] = df['Quantity'].multiply(df['UnitPrice'])\r\n",
    "df_clv = df[['CustomerID', 'InvoiceNo', 'InvoiceDate', 'Quantity', 'UnitPrice', 'Revenue']]\r\n",
    "df_clv = df_clv[df_clv['Revenue'] > 0]\r\n",
    "df_clv = df_clv[df_clv['CustomerID'].notnull()]"
   ],
   "outputs": [
    {
     "output_type": "stream",
     "name": "stdout",
     "text": [
      "dfset total records: 541909\n"
     ]
    }
   ],
   "metadata": {}
  },
  {
   "cell_type": "code",
   "execution_count": 3,
   "source": [
    "df_clv.info()"
   ],
   "outputs": [
    {
     "output_type": "stream",
     "name": "stdout",
     "text": [
      "<class 'pandas.core.frame.DataFrame'>\n",
      "Int64Index: 397884 entries, 0 to 541908\n",
      "Data columns (total 6 columns):\n",
      " #   Column       Non-Null Count   Dtype         \n",
      "---  ------       --------------   -----         \n",
      " 0   CustomerID   397884 non-null  float64       \n",
      " 1   InvoiceNo    397884 non-null  object        \n",
      " 2   InvoiceDate  397884 non-null  datetime64[ns]\n",
      " 3   Quantity     397884 non-null  int64         \n",
      " 4   UnitPrice    397884 non-null  float64       \n",
      " 5   Revenue      397884 non-null  float64       \n",
      "dtypes: datetime64[ns](1), float64(3), int64(1), object(1)\n",
      "memory usage: 21.2+ MB\n"
     ]
    }
   ],
   "metadata": {}
  },
  {
   "cell_type": "code",
   "execution_count": 4,
   "source": [
    "df_clv.head()"
   ],
   "outputs": [
    {
     "output_type": "execute_result",
     "data": {
      "text/html": [
       "<div>\n",
       "<style scoped>\n",
       "    .dataframe tbody tr th:only-of-type {\n",
       "        vertical-align: middle;\n",
       "    }\n",
       "\n",
       "    .dataframe tbody tr th {\n",
       "        vertical-align: top;\n",
       "    }\n",
       "\n",
       "    .dataframe thead th {\n",
       "        text-align: right;\n",
       "    }\n",
       "</style>\n",
       "<table border=\"1\" class=\"dataframe\">\n",
       "  <thead>\n",
       "    <tr style=\"text-align: right;\">\n",
       "      <th></th>\n",
       "      <th>CustomerID</th>\n",
       "      <th>InvoiceNo</th>\n",
       "      <th>InvoiceDate</th>\n",
       "      <th>Quantity</th>\n",
       "      <th>UnitPrice</th>\n",
       "      <th>Revenue</th>\n",
       "    </tr>\n",
       "  </thead>\n",
       "  <tbody>\n",
       "    <tr>\n",
       "      <th>0</th>\n",
       "      <td>17850.0</td>\n",
       "      <td>536365</td>\n",
       "      <td>2010-12-01 08:26:00</td>\n",
       "      <td>6</td>\n",
       "      <td>2.55</td>\n",
       "      <td>15.30</td>\n",
       "    </tr>\n",
       "    <tr>\n",
       "      <th>1</th>\n",
       "      <td>17850.0</td>\n",
       "      <td>536365</td>\n",
       "      <td>2010-12-01 08:26:00</td>\n",
       "      <td>6</td>\n",
       "      <td>3.39</td>\n",
       "      <td>20.34</td>\n",
       "    </tr>\n",
       "    <tr>\n",
       "      <th>2</th>\n",
       "      <td>17850.0</td>\n",
       "      <td>536365</td>\n",
       "      <td>2010-12-01 08:26:00</td>\n",
       "      <td>8</td>\n",
       "      <td>2.75</td>\n",
       "      <td>22.00</td>\n",
       "    </tr>\n",
       "    <tr>\n",
       "      <th>3</th>\n",
       "      <td>17850.0</td>\n",
       "      <td>536365</td>\n",
       "      <td>2010-12-01 08:26:00</td>\n",
       "      <td>6</td>\n",
       "      <td>3.39</td>\n",
       "      <td>20.34</td>\n",
       "    </tr>\n",
       "    <tr>\n",
       "      <th>4</th>\n",
       "      <td>17850.0</td>\n",
       "      <td>536365</td>\n",
       "      <td>2010-12-01 08:26:00</td>\n",
       "      <td>6</td>\n",
       "      <td>3.39</td>\n",
       "      <td>20.34</td>\n",
       "    </tr>\n",
       "  </tbody>\n",
       "</table>\n",
       "</div>"
      ],
      "text/plain": [
       "   CustomerID InvoiceNo         InvoiceDate  Quantity  UnitPrice  Revenue\n",
       "0     17850.0    536365 2010-12-01 08:26:00         6       2.55    15.30\n",
       "1     17850.0    536365 2010-12-01 08:26:00         6       3.39    20.34\n",
       "2     17850.0    536365 2010-12-01 08:26:00         8       2.75    22.00\n",
       "3     17850.0    536365 2010-12-01 08:26:00         6       3.39    20.34\n",
       "4     17850.0    536365 2010-12-01 08:26:00         6       3.39    20.34"
      ]
     },
     "metadata": {},
     "execution_count": 4
    }
   ],
   "metadata": {}
  },
  {
   "cell_type": "code",
   "execution_count": 5,
   "source": [
    "df_clv.describe()"
   ],
   "outputs": [
    {
     "output_type": "execute_result",
     "data": {
      "text/html": [
       "<div>\n",
       "<style scoped>\n",
       "    .dataframe tbody tr th:only-of-type {\n",
       "        vertical-align: middle;\n",
       "    }\n",
       "\n",
       "    .dataframe tbody tr th {\n",
       "        vertical-align: top;\n",
       "    }\n",
       "\n",
       "    .dataframe thead th {\n",
       "        text-align: right;\n",
       "    }\n",
       "</style>\n",
       "<table border=\"1\" class=\"dataframe\">\n",
       "  <thead>\n",
       "    <tr style=\"text-align: right;\">\n",
       "      <th></th>\n",
       "      <th>CustomerID</th>\n",
       "      <th>Quantity</th>\n",
       "      <th>UnitPrice</th>\n",
       "      <th>Revenue</th>\n",
       "    </tr>\n",
       "  </thead>\n",
       "  <tbody>\n",
       "    <tr>\n",
       "      <th>count</th>\n",
       "      <td>397884.000000</td>\n",
       "      <td>397884.000000</td>\n",
       "      <td>397884.000000</td>\n",
       "      <td>397884.000000</td>\n",
       "    </tr>\n",
       "    <tr>\n",
       "      <th>mean</th>\n",
       "      <td>15294.423453</td>\n",
       "      <td>12.988238</td>\n",
       "      <td>3.116488</td>\n",
       "      <td>22.397000</td>\n",
       "    </tr>\n",
       "    <tr>\n",
       "      <th>std</th>\n",
       "      <td>1713.141560</td>\n",
       "      <td>179.331775</td>\n",
       "      <td>22.097877</td>\n",
       "      <td>309.071041</td>\n",
       "    </tr>\n",
       "    <tr>\n",
       "      <th>min</th>\n",
       "      <td>12346.000000</td>\n",
       "      <td>1.000000</td>\n",
       "      <td>0.001000</td>\n",
       "      <td>0.001000</td>\n",
       "    </tr>\n",
       "    <tr>\n",
       "      <th>25%</th>\n",
       "      <td>13969.000000</td>\n",
       "      <td>2.000000</td>\n",
       "      <td>1.250000</td>\n",
       "      <td>4.680000</td>\n",
       "    </tr>\n",
       "    <tr>\n",
       "      <th>50%</th>\n",
       "      <td>15159.000000</td>\n",
       "      <td>6.000000</td>\n",
       "      <td>1.950000</td>\n",
       "      <td>11.800000</td>\n",
       "    </tr>\n",
       "    <tr>\n",
       "      <th>75%</th>\n",
       "      <td>16795.000000</td>\n",
       "      <td>12.000000</td>\n",
       "      <td>3.750000</td>\n",
       "      <td>19.800000</td>\n",
       "    </tr>\n",
       "    <tr>\n",
       "      <th>max</th>\n",
       "      <td>18287.000000</td>\n",
       "      <td>80995.000000</td>\n",
       "      <td>8142.750000</td>\n",
       "      <td>168469.600000</td>\n",
       "    </tr>\n",
       "  </tbody>\n",
       "</table>\n",
       "</div>"
      ],
      "text/plain": [
       "          CustomerID       Quantity      UnitPrice        Revenue\n",
       "count  397884.000000  397884.000000  397884.000000  397884.000000\n",
       "mean    15294.423453      12.988238       3.116488      22.397000\n",
       "std      1713.141560     179.331775      22.097877     309.071041\n",
       "min     12346.000000       1.000000       0.001000       0.001000\n",
       "25%     13969.000000       2.000000       1.250000       4.680000\n",
       "50%     15159.000000       6.000000       1.950000      11.800000\n",
       "75%     16795.000000      12.000000       3.750000      19.800000\n",
       "max     18287.000000   80995.000000    8142.750000  168469.600000"
      ]
     },
     "metadata": {},
     "execution_count": 5
    }
   ],
   "metadata": {}
  },
  {
   "cell_type": "code",
   "execution_count": 6,
   "source": [
    "df_clv.nunique()"
   ],
   "outputs": [
    {
     "output_type": "execute_result",
     "data": {
      "text/plain": [
       "CustomerID      4338\n",
       "InvoiceNo      18532\n",
       "InvoiceDate    17282\n",
       "Quantity         301\n",
       "UnitPrice        440\n",
       "Revenue         2939\n",
       "dtype: int64"
      ]
     },
     "metadata": {},
     "execution_count": 6
    }
   ],
   "metadata": {}
  },
  {
   "cell_type": "markdown",
   "source": [
    "Finally, all the required cleaning of the df is done. Let's take a look at the final df which we use in our project."
   ],
   "metadata": {}
  },
  {
   "cell_type": "code",
   "execution_count": 7,
   "source": [
    "# Printing the details of the dfset\r\n",
    "max_date = df_clv['InvoiceDate'].dt.date.max()\r\n",
    "min_date = df_clv['InvoiceDate'].dt.date.min()\r\n",
    "unique_cust = df_clv['CustomerID'].nunique()\r\n",
    "total_vol = df_clv['Quantity'].sum()\r\n",
    "total_rev = df_clv['Revenue'].sum()\r\n",
    "\r\n",
    "print(f\"Data Time Range: {min_date} to {max_date}\")\r\n",
    "print(f\"Count Unique Customer: {unique_cust}\")\r\n",
    "print(f\"Sum Quantity: {total_vol}\")\r\n",
    "print(f\"Sum Revenue: {total_rev}\")"
   ],
   "outputs": [
    {
     "output_type": "stream",
     "name": "stdout",
     "text": [
      "Data Time Range: 2010-12-01 to 2011-12-09\n",
      "Count Unique Customer: 4338\n",
      "Sum Quantity: 5167812\n",
      "Sum Revenue: 8911407.904\n"
     ]
    }
   ],
   "metadata": {}
  },
  {
   "cell_type": "markdown",
   "source": [
    "# 1. Simple Aggregate Model"
   ],
   "metadata": {}
  },
  {
   "cell_type": "markdown",
   "source": [
    "### CLV = [(Average Sales * Purchase Frequency) / Churn] * Profit Margin  "
   ],
   "metadata": {}
  },
  {
   "cell_type": "markdown",
   "source": [
    "*Average Sales = Revenue / Count Order)*\r\n",
    "\r\n",
    "*Purchase Frequency = Count Order / Count Unique Customer*\r\n",
    "\r\n",
    "*Churn = 1 - (Purchase Frequency > 1 / Count Unique Customer)*\r\n",
    "\r\n",
    "*Profit Margin = Based on business context*"
   ],
   "metadata": {}
  },
  {
   "cell_type": "markdown",
   "source": [
    "We will assume the \"Profit Margin\" for each transaction to be roughly 5%."
   ],
   "metadata": {}
  },
  {
   "cell_type": "code",
   "execution_count": 8,
   "source": [
    "# Transforming the df to customer level for the analysis\r\n",
    "df_cust = df_clv.groupby('CustomerID').agg({'InvoiceDate':lambda x: (x.max() - x.min()).days, \r\n",
    "                                            'InvoiceNo': lambda x: len(x),\r\n",
    "                                            'Revenue': lambda x: sum(x)}\r\n",
    "                                            )\r\n",
    "df_cust.columns = ['Age', 'Frequency', 'Revenue']\r\n",
    "df_cust.head()"
   ],
   "outputs": [
    {
     "output_type": "execute_result",
     "data": {
      "text/html": [
       "<div>\n",
       "<style scoped>\n",
       "    .dataframe tbody tr th:only-of-type {\n",
       "        vertical-align: middle;\n",
       "    }\n",
       "\n",
       "    .dataframe tbody tr th {\n",
       "        vertical-align: top;\n",
       "    }\n",
       "\n",
       "    .dataframe thead th {\n",
       "        text-align: right;\n",
       "    }\n",
       "</style>\n",
       "<table border=\"1\" class=\"dataframe\">\n",
       "  <thead>\n",
       "    <tr style=\"text-align: right;\">\n",
       "      <th></th>\n",
       "      <th>Age</th>\n",
       "      <th>Frequency</th>\n",
       "      <th>Revenue</th>\n",
       "    </tr>\n",
       "    <tr>\n",
       "      <th>CustomerID</th>\n",
       "      <th></th>\n",
       "      <th></th>\n",
       "      <th></th>\n",
       "    </tr>\n",
       "  </thead>\n",
       "  <tbody>\n",
       "    <tr>\n",
       "      <th>12346.0</th>\n",
       "      <td>0</td>\n",
       "      <td>1</td>\n",
       "      <td>77183.60</td>\n",
       "    </tr>\n",
       "    <tr>\n",
       "      <th>12347.0</th>\n",
       "      <td>365</td>\n",
       "      <td>182</td>\n",
       "      <td>4310.00</td>\n",
       "    </tr>\n",
       "    <tr>\n",
       "      <th>12348.0</th>\n",
       "      <td>282</td>\n",
       "      <td>31</td>\n",
       "      <td>1797.24</td>\n",
       "    </tr>\n",
       "    <tr>\n",
       "      <th>12349.0</th>\n",
       "      <td>0</td>\n",
       "      <td>73</td>\n",
       "      <td>1757.55</td>\n",
       "    </tr>\n",
       "    <tr>\n",
       "      <th>12350.0</th>\n",
       "      <td>0</td>\n",
       "      <td>17</td>\n",
       "      <td>334.40</td>\n",
       "    </tr>\n",
       "  </tbody>\n",
       "</table>\n",
       "</div>"
      ],
      "text/plain": [
       "            Age  Frequency   Revenue\n",
       "CustomerID                          \n",
       "12346.0       0          1  77183.60\n",
       "12347.0     365        182   4310.00\n",
       "12348.0     282         31   1797.24\n",
       "12349.0       0         73   1757.55\n",
       "12350.0       0         17    334.40"
      ]
     },
     "metadata": {},
     "execution_count": 8
    }
   ],
   "metadata": {}
  },
  {
   "cell_type": "code",
   "execution_count": 9,
   "source": [
    "# Calculating the necessary variables for CLV calculation\r\n",
    "avg_revenue = round(np.mean(df_cust['Revenue']),2)\r\n",
    "pur_freq = round(np.mean(df_cust['Frequency']), 2)\r\n",
    "reten_rate = df_cust[df_cust['Frequency'] > 1].shape[0]/df_cust.shape[0]\r\n",
    "churn = round(1 - reten_rate, 2)\r\n",
    "\r\n",
    "print(f\"Average Revenue: ${avg_revenue}\")\r\n",
    "print(f\"Purchase Frequency: {pur_freq}\")\r\n",
    "print(f\"Churn: {churn}%\")"
   ],
   "outputs": [
    {
     "output_type": "stream",
     "name": "stdout",
     "text": [
      "Average Revenue: $2054.27\n",
      "Purchase Frequency: 91.72\n",
      "Churn: 0.02%\n"
     ]
    }
   ],
   "metadata": {}
  },
  {
   "cell_type": "code",
   "execution_count": 10,
   "source": [
    "# Calculating the CLV\r\n",
    "profit_margin = 0.05 \r\n",
    "\r\n",
    "CLV = round(((avg_revenue * pur_freq / churn)) * profit_margin, 2)\r\n",
    "print(f\"Customer Lifetime Value (CLV) for 1 customer: ${CLV}\")"
   ],
   "outputs": [
    {
     "output_type": "stream",
     "name": "stdout",
     "text": [
      "Customer Lifetime Value (CLV) for 1 customer: $471044.11\n"
     ]
    }
   ],
   "metadata": {}
  },
  {
   "cell_type": "markdown",
   "source": [
    "From our basic model, we got a **CLV value of $471K** for each customer, but this number is too general.\r\n",
    "\r\n",
    "The reason is because of the very high revenue from very few customers (80-20 rule haha), which actually skewed the overall output So, not every customer is same right?\r\n",
    "\r\n",
    "Take a look!"
   ],
   "metadata": {}
  },
  {
   "cell_type": "code",
   "execution_count": 11,
   "source": [
    "df_cust['Revenue'].describe()"
   ],
   "outputs": [
    {
     "output_type": "execute_result",
     "data": {
      "text/plain": [
       "count      4338.000000\n",
       "mean       2054.266460\n",
       "std        8989.230441\n",
       "min           3.750000\n",
       "25%         307.415000\n",
       "50%         674.485000\n",
       "75%        1661.740000\n",
       "max      280206.020000\n",
       "Name: Revenue, dtype: float64"
      ]
     },
     "metadata": {},
     "execution_count": 11
    }
   ],
   "metadata": {}
  },
  {
   "cell_type": "markdown",
   "source": [
    "From the output, almost 75% of customers in our df have revenue less than 2000; the maximum index is around 280k.\r\n",
    "\r\n",
    "Now look back at the CLV, we can all agree that every customer transacted with the business really generate over 470K in their lifetime? Definitely not!\r\n",
    "\r\n",
    "Therefore, it should be some kind of way/model can distinct each customers; or at least each customer segmentation."
   ],
   "metadata": {}
  },
  {
   "cell_type": "markdown",
   "source": [
    "# 2. Cohort Model "
   ],
   "metadata": {}
  },
  {
   "cell_type": "markdown",
   "source": [
    "Instead of simply assuming all the customers to be one group, we can try to split them into multiple groups based and calculate the CLV for each group. Here we go \"Cohort Model\".\r\n",
    "\r\n",
    "The main assumption of this model is, customers within a cohort spend similarly. The most common way to group is using their **\"start date of a customer, typically by month\"**. The best choice will depend on the customer acquisition rate, seasonality of business, and whether additional customer information can be used."
   ],
   "metadata": {}
  },
  {
   "cell_type": "code",
   "execution_count": 12,
   "source": [
    "df_cust = df_clv.groupby('CustomerID').agg({'InvoiceDate':lambda x: x.min().month, \r\n",
    "                                            'InvoiceNo': lambda x: len(x),\r\n",
    "                                            'Revenue': lambda x: np.sum(x)})\r\n",
    "\r\n",
    "df_cust.columns = ['Start Month', 'Frequency', 'Revenue']\r\n",
    "df_cust.head()"
   ],
   "outputs": [
    {
     "output_type": "execute_result",
     "data": {
      "text/html": [
       "<div>\n",
       "<style scoped>\n",
       "    .dataframe tbody tr th:only-of-type {\n",
       "        vertical-align: middle;\n",
       "    }\n",
       "\n",
       "    .dataframe tbody tr th {\n",
       "        vertical-align: top;\n",
       "    }\n",
       "\n",
       "    .dataframe thead th {\n",
       "        text-align: right;\n",
       "    }\n",
       "</style>\n",
       "<table border=\"1\" class=\"dataframe\">\n",
       "  <thead>\n",
       "    <tr style=\"text-align: right;\">\n",
       "      <th></th>\n",
       "      <th>Start Month</th>\n",
       "      <th>Frequency</th>\n",
       "      <th>Revenue</th>\n",
       "    </tr>\n",
       "    <tr>\n",
       "      <th>CustomerID</th>\n",
       "      <th></th>\n",
       "      <th></th>\n",
       "      <th></th>\n",
       "    </tr>\n",
       "  </thead>\n",
       "  <tbody>\n",
       "    <tr>\n",
       "      <th>12346.0</th>\n",
       "      <td>1</td>\n",
       "      <td>1</td>\n",
       "      <td>77183.60</td>\n",
       "    </tr>\n",
       "    <tr>\n",
       "      <th>12347.0</th>\n",
       "      <td>12</td>\n",
       "      <td>182</td>\n",
       "      <td>4310.00</td>\n",
       "    </tr>\n",
       "    <tr>\n",
       "      <th>12348.0</th>\n",
       "      <td>12</td>\n",
       "      <td>31</td>\n",
       "      <td>1797.24</td>\n",
       "    </tr>\n",
       "    <tr>\n",
       "      <th>12349.0</th>\n",
       "      <td>11</td>\n",
       "      <td>73</td>\n",
       "      <td>1757.55</td>\n",
       "    </tr>\n",
       "    <tr>\n",
       "      <th>12350.0</th>\n",
       "      <td>2</td>\n",
       "      <td>17</td>\n",
       "      <td>334.40</td>\n",
       "    </tr>\n",
       "  </tbody>\n",
       "</table>\n",
       "</div>"
      ],
      "text/plain": [
       "            Start Month  Frequency   Revenue\n",
       "CustomerID                                  \n",
       "12346.0               1          1  77183.60\n",
       "12347.0              12        182   4310.00\n",
       "12348.0              12         31   1797.24\n",
       "12349.0              11         73   1757.55\n",
       "12350.0               2         17    334.40"
      ]
     },
     "metadata": {},
     "execution_count": 12
    }
   ],
   "metadata": {}
  },
  {
   "cell_type": "code",
   "execution_count": 13,
   "source": [
    "month_list = ['Jan', 'Feb', 'March', 'Apr', 'May', 'Jun', 'Jul', 'Aug', 'Sep', 'Oct', 'Nov', 'Dec']\r\n",
    "monthly_clv = []\r\n",
    "\r\n",
    "for i in range(1, 13):\r\n",
    "    customer_m = df_cust[df_cust['Start Month'] == i]\r\n",
    "    \r\n",
    "    avg_revenue = round(np.mean(customer_m['Revenue']), 2)\r\n",
    "    pur_freq = round(np.mean(customer_m['Frequency']), 2)\r\n",
    "    reten_rate = customer_m[customer_m['Frequency'] > 1].shape[0]/customer_m.shape[0]\r\n",
    "    churn = round(1 - reten_rate, 2)\r\n",
    "    profit_margin = 0.05\r\n",
    "    CLV = round(((avg_revenue * pur_freq / churn)) * profit_margin, 2)\r\n",
    "    \r\n",
    "    monthly_clv.append(CLV)"
   ],
   "outputs": [],
   "metadata": {}
  },
  {
   "cell_type": "code",
   "execution_count": 14,
   "source": [
    "monthly_clv = pd.DataFrame(zip(month_list, monthly_clv), columns=['Month', 'CLV'])\r\n",
    "print(monthly_clv)"
   ],
   "outputs": [
    {
     "output_type": "stream",
     "name": "stdout",
     "text": [
      "    Month         CLV\n",
      "0     Jan  1546537.09\n",
      "1     Feb   313073.92\n",
      "2   March   539933.18\n",
      "3     Apr   349213.35\n",
      "4     May   147597.49\n",
      "5     Jun   323795.77\n",
      "6     Jul    71760.42\n",
      "7     Aug   148834.42\n",
      "8     Sep   185155.70\n",
      "9     Oct   144042.95\n",
      "10    Nov    44869.79\n",
      "11    Dec  4507588.12\n"
     ]
    }
   ],
   "metadata": {}
  },
  {
   "cell_type": "markdown",
   "source": [
    "Comeback to the result, we're having 12 different CLV from Jan - Dec. It's pretty clear that, customers acquired in different months have different CLV. Because they could be acquired by different campaigns, so their behavior should be different from others group.\r\n",
    "\r\n",
    "One more note is that, CLV in Jan and Dec are higher than average. This could be an insight, because the df we are using is from a online retails who sell gifts to wholesalers/companies and the festivals like Christmas, New Year's Eve."
   ],
   "metadata": {}
  },
  {
   "cell_type": "markdown",
   "source": [
    "# 3. BG/NBD Model (with Gamma-Gamma extension)"
   ],
   "metadata": {}
  },
  {
   "cell_type": "markdown",
   "source": [
    "BG/NBD stands for Beta Geometric/Negative Binomial Distribution.\r\n",
    "\r\n",
    "This is one of the most commonly used probabilistic model for predicting the CLV. This is an alternative to the Pareto/NBD model, which is also one of the most used method in CLV calculations. For the sake of this case, we are going to focus only on BG/NBD model, but the steps are similar if you want to try it for Pareto/NBD.\r\n",
    "\r\n",
    "To be precise, both the BG/NBD and Pareto/NBD model actually tries to predict the future transactions of each customer. It is then combined with Gamma-Gamma model, which then adds the monetary aspect of the customer transaction and we finally get CLV."
   ],
   "metadata": {}
  },
  {
   "cell_type": "markdown",
   "source": [
    "The BG/NBD model has few assumptions:\r\n",
    "1. When a user is active, number of transactions in a time T is described by *Poisson distribution* with rate lambda.\r\n",
    "\r\n",
    "2. Heterogeneity in transaction across users (difference in purchasing behavior across users) has *Gamma distribution* with shape parameter r and scale parameter a.\r\n",
    "\r\n",
    "3. Users may become inactive after any transaction with probability p and their dropout point is distributed between purchases with *Geometric distribution*.\r\n",
    "\r\n",
    "4. Heterogeneity in dropout probability has *Beta distribution* with the two shape parameters alpha and beta.\r\n",
    "\r\n",
    "5. Transaction rate and dropout probability vary independently across users.\r\n",
    "\r\n",
    "The model technically fits the distribution to the historic dataset and learn the distribution parameter and then use them to predict future transactions of a customer."
   ],
   "metadata": {}
  },
  {
   "cell_type": "code",
   "execution_count": 15,
   "source": [
    "import lifetimes"
   ],
   "outputs": [],
   "metadata": {}
  },
  {
   "cell_type": "markdown",
   "source": [
    "First we need to create a summary table from the transactions df. The summary table is nothing but RFM table. (RFM - Recency, Frequency and Monetary Value)\r\n",
    "\r\n",
    "For this we can use **summary_df_from_transactions_data** function in lifetimes package. This function aggregates the transaction level data into customer level and calculates the frequency, recency, T and monetary_value for each customer.\r\n",
    "* frequency: the number of repeat purchases (more than 1 purchases)\r\n",
    "* recency: the time between the first and the last transaction\r\n",
    "* T: the time between the first purchase and the end of the transaction period\r\n",
    "* monetary_value: it is the mean of a given customers revenue"
   ],
   "metadata": {}
  },
  {
   "cell_type": "code",
   "execution_count": 16,
   "source": [
    "df_cust = lifetimes.utils.summary_data_from_transaction_data(df_clv, 'CustomerID', 'InvoiceDate', 'Revenue')\r\n",
    "df_cust = df_cust.reset_index()\r\n",
    "print(df_cust.head())\r\n",
    "print(\"---------------------------------------\")\r\n",
    "print(f\"0 value in frequency means customer is 1-time-buyer\")"
   ],
   "outputs": [
    {
     "output_type": "stream",
     "name": "stdout",
     "text": [
      "   CustomerID  frequency  recency      T  monetary_value\n",
      "0     12346.0        0.0      0.0  325.0        0.000000\n",
      "1     12347.0        6.0    365.0  367.0      599.701667\n",
      "2     12348.0        3.0    283.0  358.0      301.480000\n",
      "3     12349.0        0.0      0.0   18.0        0.000000\n",
      "4     12350.0        0.0      0.0  310.0        0.000000\n",
      "---------------------------------------\n",
      "0 value in frequency means customer is 1-time-buyer\n"
     ]
    }
   ],
   "metadata": {}
  },
  {
   "cell_type": "code",
   "execution_count": 17,
   "source": [
    "df_cust['frequency'].plot(kind='hist', bins=10)\r\n",
    "print(df_cust['frequency'].describe())\r\n",
    "print(\"---------------------------------------\")\r\n",
    "one_time_buyers = round(sum(df_cust['frequency'] == 0)/float(len(df_cust))*(100),2)\r\n",
    "print(\"Percentage of 1-time-buyer (%):\", one_time_buyers)"
   ],
   "outputs": [
    {
     "output_type": "stream",
     "name": "stdout",
     "text": [
      "count    4338.000000\n",
      "mean        2.864223\n",
      "std         5.949000\n",
      "min         0.000000\n",
      "25%         0.000000\n",
      "50%         1.000000\n",
      "75%         3.000000\n",
      "max       131.000000\n",
      "Name: frequency, dtype: float64\n",
      "---------------------------------------\n",
      "Percentage of 1-time-buyer (%): 35.68\n"
     ]
    },
    {
     "output_type": "display_data",
     "data": {
      "image/png": "[encoded data removed]",
      "text/plain": [
       "<Figure size 432x288 with 1 Axes>"
      ]
     },
     "metadata": {
      "needs_background": "light"
     }
    }
   ],
   "metadata": {}
  },
  {
   "cell_type": "markdown",
   "source": [
    "Now, let's fit the BG/NBD model to our summary df.\r\n",
    "\r\n",
    "BG/NBD model is available as **BetaGeoFitter** class in lifetimes package."
   ],
   "metadata": {}
  },
  {
   "cell_type": "code",
   "execution_count": 18,
   "source": [
    "bgf = lifetimes.BetaGeoFitter(penalizer_coef=0.0)\r\n",
    "bgf.fit(df_cust['frequency'], df_cust['recency'], df_cust['T'])\r\n",
    "bgf.summary"
   ],
   "outputs": [
    {
     "output_type": "execute_result",
     "data": {
      "text/html": [
       "<div>\n",
       "<style scoped>\n",
       "    .dataframe tbody tr th:only-of-type {\n",
       "        vertical-align: middle;\n",
       "    }\n",
       "\n",
       "    .dataframe tbody tr th {\n",
       "        vertical-align: top;\n",
       "    }\n",
       "\n",
       "    .dataframe thead th {\n",
       "        text-align: right;\n",
       "    }\n",
       "</style>\n",
       "<table border=\"1\" class=\"dataframe\">\n",
       "  <thead>\n",
       "    <tr style=\"text-align: right;\">\n",
       "      <th></th>\n",
       "      <th>coef</th>\n",
       "      <th>se(coef)</th>\n",
       "      <th>lower 95% bound</th>\n",
       "      <th>upper 95% bound</th>\n",
       "    </tr>\n",
       "  </thead>\n",
       "  <tbody>\n",
       "    <tr>\n",
       "      <th>r</th>\n",
       "      <td>0.826542</td>\n",
       "      <td>0.026785</td>\n",
       "      <td>0.774044</td>\n",
       "      <td>0.879040</td>\n",
       "    </tr>\n",
       "    <tr>\n",
       "      <th>alpha</th>\n",
       "      <td>68.905121</td>\n",
       "      <td>2.611786</td>\n",
       "      <td>63.786020</td>\n",
       "      <td>74.024221</td>\n",
       "    </tr>\n",
       "    <tr>\n",
       "      <th>a</th>\n",
       "      <td>0.003437</td>\n",
       "      <td>0.010339</td>\n",
       "      <td>-0.016828</td>\n",
       "      <td>0.023702</td>\n",
       "    </tr>\n",
       "    <tr>\n",
       "      <th>b</th>\n",
       "      <td>6.745116</td>\n",
       "      <td>22.414725</td>\n",
       "      <td>-37.187745</td>\n",
       "      <td>50.677978</td>\n",
       "    </tr>\n",
       "  </tbody>\n",
       "</table>\n",
       "</div>"
      ],
      "text/plain": [
       "            coef   se(coef)  lower 95% bound  upper 95% bound\n",
       "r       0.826542   0.026785         0.774044         0.879040\n",
       "alpha  68.905121   2.611786        63.786020        74.024221\n",
       "a       0.003437   0.010339        -0.016828         0.023702\n",
       "b       6.745116  22.414725       -37.187745        50.677978"
      ]
     },
     "metadata": {},
     "execution_count": 18
    }
   ],
   "metadata": {}
  },
  {
   "cell_type": "markdown",
   "source": [
    "The above table shows the estimated distribution parameter values from the historical data.\r\n",
    "\r\n",
    "The model uses this output to predict the future transactions and the customer churn rate.\r\n",
    "\r\n",
    "So, let's say you want to know whether a customer is now alive or not (or predict customer churn) based on the historical data. The lifetimes package provides a way to accomplish that task, we can use\r\n",
    "\r\n",
    "**1. model.conditional_probability_alive():** This method computes the probability that a customer with history (frequency, recency, T) is currently alive.\r\n",
    "\r\n",
    "**2. plot_probabilty_alive_matrix(model):** This function from lifetimes.plotting will help to visually analyze the relationship between recency & frequency and the customer being alive."
   ],
   "metadata": {}
  },
  {
   "cell_type": "code",
   "execution_count": 19,
   "source": [
    "# Compute the customer alive probability\r\n",
    "df_cust['probability_alive'] = bgf.conditional_probability_alive(df_cust['frequency'], df_cust['recency'], df_cust['T'])\r\n",
    "df_cust.head()"
   ],
   "outputs": [
    {
     "output_type": "execute_result",
     "data": {
      "text/html": [
       "<div>\n",
       "<style scoped>\n",
       "    .dataframe tbody tr th:only-of-type {\n",
       "        vertical-align: middle;\n",
       "    }\n",
       "\n",
       "    .dataframe tbody tr th {\n",
       "        vertical-align: top;\n",
       "    }\n",
       "\n",
       "    .dataframe thead th {\n",
       "        text-align: right;\n",
       "    }\n",
       "</style>\n",
       "<table border=\"1\" class=\"dataframe\">\n",
       "  <thead>\n",
       "    <tr style=\"text-align: right;\">\n",
       "      <th></th>\n",
       "      <th>CustomerID</th>\n",
       "      <th>frequency</th>\n",
       "      <th>recency</th>\n",
       "      <th>T</th>\n",
       "      <th>monetary_value</th>\n",
       "      <th>probability_alive</th>\n",
       "    </tr>\n",
       "  </thead>\n",
       "  <tbody>\n",
       "    <tr>\n",
       "      <th>0</th>\n",
       "      <td>12346.0</td>\n",
       "      <td>0.0</td>\n",
       "      <td>0.0</td>\n",
       "      <td>325.0</td>\n",
       "      <td>0.000000</td>\n",
       "      <td>1.000000</td>\n",
       "    </tr>\n",
       "    <tr>\n",
       "      <th>1</th>\n",
       "      <td>12347.0</td>\n",
       "      <td>6.0</td>\n",
       "      <td>365.0</td>\n",
       "      <td>367.0</td>\n",
       "      <td>599.701667</td>\n",
       "      <td>0.999698</td>\n",
       "    </tr>\n",
       "    <tr>\n",
       "      <th>2</th>\n",
       "      <td>12348.0</td>\n",
       "      <td>3.0</td>\n",
       "      <td>283.0</td>\n",
       "      <td>358.0</td>\n",
       "      <td>301.480000</td>\n",
       "      <td>0.999177</td>\n",
       "    </tr>\n",
       "    <tr>\n",
       "      <th>3</th>\n",
       "      <td>12349.0</td>\n",
       "      <td>0.0</td>\n",
       "      <td>0.0</td>\n",
       "      <td>18.0</td>\n",
       "      <td>0.000000</td>\n",
       "      <td>1.000000</td>\n",
       "    </tr>\n",
       "    <tr>\n",
       "      <th>4</th>\n",
       "      <td>12350.0</td>\n",
       "      <td>0.0</td>\n",
       "      <td>0.0</td>\n",
       "      <td>310.0</td>\n",
       "      <td>0.000000</td>\n",
       "      <td>1.000000</td>\n",
       "    </tr>\n",
       "  </tbody>\n",
       "</table>\n",
       "</div>"
      ],
      "text/plain": [
       "   CustomerID  frequency  recency      T  monetary_value  probability_alive\n",
       "0     12346.0        0.0      0.0  325.0        0.000000           1.000000\n",
       "1     12347.0        6.0    365.0  367.0      599.701667           0.999698\n",
       "2     12348.0        3.0    283.0  358.0      301.480000           0.999177\n",
       "3     12349.0        0.0      0.0   18.0        0.000000           1.000000\n",
       "4     12350.0        0.0      0.0  310.0        0.000000           1.000000"
      ]
     },
     "metadata": {},
     "execution_count": 19
    }
   ],
   "metadata": {}
  },
  {
   "cell_type": "code",
   "execution_count": 20,
   "source": [
    "# Visual representation of relationship between recency and frequency\r\n",
    "from lifetimes.plotting import plot_probability_alive_matrix\r\n",
    "\r\n",
    "fig = plt.figure(figsize=(12, 8))\r\n",
    "plot_probability_alive_matrix(bgf)"
   ],
   "outputs": [
    {
     "output_type": "execute_result",
     "data": {
      "text/plain": [
       "<AxesSubplot:title={'center':'Probability Customer is Alive,\\nby Frequency and Recency of a Customer'}, xlabel=\"Customer's Historical Frequency\", ylabel=\"Customer's Recency\">"
      ]
     },
     "metadata": {},
     "execution_count": 20
    },
    {
     "output_type": "display_data",
     "data": {
      "image/png": "[encoded data removed]",
      "text/plain": [
       "<Figure size 864x576 with 2 Axes>"
      ]
     },
     "metadata": {
      "needs_background": "light"
     }
    }
   ],
   "metadata": {}
  },
  {
   "cell_type": "markdown",
   "source": [
    "The probabilty of being alive is calculated based on the recency and frequency of a customer. So,\r\n",
    "* If a customer has bought multiple times (frequency) and the time between first & last transaction is high (recency), then his/her probability being alive is high.\r\n",
    "* Similarly, if a customer has less frequency (bought once or twice) and the time between first & last transaction is low (recency), then his/her probability being alive is low."
   ],
   "metadata": {}
  },
  {
   "cell_type": "markdown",
   "source": [
    "Next thing we can do with this trained model is to predict the likely future transactions for each customer. We can use\r\n",
    "\r\n",
    "**1. model.conditional_expected_number_of_purchases_up_to_time():** Calculate the expected number of repeat purchases up to time t for a randomly chosen individual from the population (or the whole population), given they have purchase history (frequency, recency, T)."
   ],
   "metadata": {}
  },
  {
   "cell_type": "code",
   "execution_count": 21,
   "source": [
    "t = 30\r\n",
    "df_cust['pred_num_txn'] = round(bgf.conditional_expected_number_of_purchases_up_to_time(t, df_cust['frequency'], df_cust['recency'], df_cust['T']), 2)\r\n",
    "df_cust.sort_values(by='pred_num_txn', ascending=False).head(10).reset_index()"
   ],
   "outputs": [
    {
     "output_type": "execute_result",
     "data": {
      "text/html": [
       "<div>\n",
       "<style scoped>\n",
       "    .dataframe tbody tr th:only-of-type {\n",
       "        vertical-align: middle;\n",
       "    }\n",
       "\n",
       "    .dataframe tbody tr th {\n",
       "        vertical-align: top;\n",
       "    }\n",
       "\n",
       "    .dataframe thead th {\n",
       "        text-align: right;\n",
       "    }\n",
       "</style>\n",
       "<table border=\"1\" class=\"dataframe\">\n",
       "  <thead>\n",
       "    <tr style=\"text-align: right;\">\n",
       "      <th></th>\n",
       "      <th>index</th>\n",
       "      <th>CustomerID</th>\n",
       "      <th>frequency</th>\n",
       "      <th>recency</th>\n",
       "      <th>T</th>\n",
       "      <th>monetary_value</th>\n",
       "      <th>probability_alive</th>\n",
       "      <th>pred_num_txn</th>\n",
       "    </tr>\n",
       "  </thead>\n",
       "  <tbody>\n",
       "    <tr>\n",
       "      <th>0</th>\n",
       "      <td>1879</td>\n",
       "      <td>14911.0</td>\n",
       "      <td>131.0</td>\n",
       "      <td>372.0</td>\n",
       "      <td>373.0</td>\n",
       "      <td>1093.661679</td>\n",
       "      <td>0.999966</td>\n",
       "      <td>8.95</td>\n",
       "    </tr>\n",
       "    <tr>\n",
       "      <th>1</th>\n",
       "      <td>326</td>\n",
       "      <td>12748.0</td>\n",
       "      <td>112.0</td>\n",
       "      <td>373.0</td>\n",
       "      <td>373.0</td>\n",
       "      <td>301.024821</td>\n",
       "      <td>0.999971</td>\n",
       "      <td>7.66</td>\n",
       "    </tr>\n",
       "    <tr>\n",
       "      <th>2</th>\n",
       "      <td>4010</td>\n",
       "      <td>17841.0</td>\n",
       "      <td>111.0</td>\n",
       "      <td>372.0</td>\n",
       "      <td>373.0</td>\n",
       "      <td>364.452162</td>\n",
       "      <td>0.999962</td>\n",
       "      <td>7.59</td>\n",
       "    </tr>\n",
       "    <tr>\n",
       "      <th>3</th>\n",
       "      <td>2176</td>\n",
       "      <td>15311.0</td>\n",
       "      <td>89.0</td>\n",
       "      <td>373.0</td>\n",
       "      <td>373.0</td>\n",
       "      <td>677.729438</td>\n",
       "      <td>0.999964</td>\n",
       "      <td>6.10</td>\n",
       "    </tr>\n",
       "    <tr>\n",
       "      <th>4</th>\n",
       "      <td>1661</td>\n",
       "      <td>14606.0</td>\n",
       "      <td>88.0</td>\n",
       "      <td>372.0</td>\n",
       "      <td>373.0</td>\n",
       "      <td>135.890114</td>\n",
       "      <td>0.999955</td>\n",
       "      <td>6.03</td>\n",
       "    </tr>\n",
       "    <tr>\n",
       "      <th>5</th>\n",
       "      <td>481</td>\n",
       "      <td>12971.0</td>\n",
       "      <td>70.0</td>\n",
       "      <td>369.0</td>\n",
       "      <td>372.0</td>\n",
       "      <td>159.211286</td>\n",
       "      <td>0.999926</td>\n",
       "      <td>4.82</td>\n",
       "    </tr>\n",
       "    <tr>\n",
       "      <th>6</th>\n",
       "      <td>562</td>\n",
       "      <td>13089.0</td>\n",
       "      <td>65.0</td>\n",
       "      <td>367.0</td>\n",
       "      <td>369.0</td>\n",
       "      <td>893.714308</td>\n",
       "      <td>0.999934</td>\n",
       "      <td>4.51</td>\n",
       "    </tr>\n",
       "    <tr>\n",
       "      <th>7</th>\n",
       "      <td>1602</td>\n",
       "      <td>14527.0</td>\n",
       "      <td>53.0</td>\n",
       "      <td>367.0</td>\n",
       "      <td>369.0</td>\n",
       "      <td>155.016415</td>\n",
       "      <td>0.999925</td>\n",
       "      <td>3.69</td>\n",
       "    </tr>\n",
       "    <tr>\n",
       "      <th>8</th>\n",
       "      <td>1069</td>\n",
       "      <td>13798.0</td>\n",
       "      <td>52.0</td>\n",
       "      <td>371.0</td>\n",
       "      <td>372.0</td>\n",
       "      <td>706.650962</td>\n",
       "      <td>0.999933</td>\n",
       "      <td>3.59</td>\n",
       "    </tr>\n",
       "    <tr>\n",
       "      <th>9</th>\n",
       "      <td>2990</td>\n",
       "      <td>16422.0</td>\n",
       "      <td>47.0</td>\n",
       "      <td>352.0</td>\n",
       "      <td>369.0</td>\n",
       "      <td>702.472340</td>\n",
       "      <td>0.999567</td>\n",
       "      <td>3.27</td>\n",
       "    </tr>\n",
       "  </tbody>\n",
       "</table>\n",
       "</div>"
      ],
      "text/plain": [
       "   index  CustomerID  frequency  recency      T  monetary_value  \\\n",
       "0   1879     14911.0      131.0    372.0  373.0     1093.661679   \n",
       "1    326     12748.0      112.0    373.0  373.0      301.024821   \n",
       "2   4010     17841.0      111.0    372.0  373.0      364.452162   \n",
       "3   2176     15311.0       89.0    373.0  373.0      677.729438   \n",
       "4   1661     14606.0       88.0    372.0  373.0      135.890114   \n",
       "5    481     12971.0       70.0    369.0  372.0      159.211286   \n",
       "6    562     13089.0       65.0    367.0  369.0      893.714308   \n",
       "7   1602     14527.0       53.0    367.0  369.0      155.016415   \n",
       "8   1069     13798.0       52.0    371.0  372.0      706.650962   \n",
       "9   2990     16422.0       47.0    352.0  369.0      702.472340   \n",
       "\n",
       "   probability_alive  pred_num_txn  \n",
       "0           0.999966          8.95  \n",
       "1           0.999971          7.66  \n",
       "2           0.999962          7.59  \n",
       "3           0.999964          6.10  \n",
       "4           0.999955          6.03  \n",
       "5           0.999926          4.82  \n",
       "6           0.999934          4.51  \n",
       "7           0.999925          3.69  \n",
       "8           0.999933          3.59  \n",
       "9           0.999567          3.27  "
      ]
     },
     "metadata": {},
     "execution_count": 21
    }
   ],
   "metadata": {}
  },
  {
   "cell_type": "markdown",
   "source": [
    "We now have the prediction for number of purchases a customer will make in the next 10 days.\r\n",
    "\r\n",
    "To check whether the predicted number makes sense, we can try something like this:\r\n",
    "\r\n",
    "Let's take CustomerID - 14911,\r\n",
    "\r\n",
    "*In 372 days, he purchased 131 times. So, in one day he purchases 131/372 = 0.352 times. Hence, for 10 days = 3.52 times.*\r\n",
    "\r\n",
    "Here, our predicted result is 2.98 ((pred_num_txn/30)*10), which is close to the manual probability prediction we did above. The reason for the difference is caused by the various assumptions about the customers, such as the dropout rate, customers lifetime being modeled as exponential distribution, etc.\r\n"
   ],
   "metadata": {}
  },
  {
   "cell_type": "markdown",
   "source": [
    "Now that we predicted the expected future transactions, we now need to predict the future monetary value of each transactions.\n",
    "\n",
    "Like I have previously mentioned above, the BG/NBD model can only be able to predict the future transactions and churn rate of a customer. In order to add the monetary aspect of the problem, we have to model the monetary value using the **Gamma-Gamma Model**."
   ],
   "metadata": {}
  },
  {
   "cell_type": "markdown",
   "source": [
    "Key assumptions of Gamma-Gamma model are\r\n",
    "1. The monetary value of a customer's given transaction varies randomly around their average transaction value.\r\n",
    "2. Average transaction value varies across customers but do not vary over time for any given customer.\r\n",
    "3. The distribution of average transaction values across customers is independent of the transaction process."
   ],
   "metadata": {}
  },
  {
   "cell_type": "code",
   "execution_count": 22,
   "source": [
    "return_customers_summary = df_cust[df_cust['frequency']>0]\r\n",
    "print(return_customers_summary.shape)\r\n",
    "return_customers_summary.head()"
   ],
   "outputs": [
    {
     "output_type": "stream",
     "name": "stdout",
     "text": [
      "(2790, 7)\n"
     ]
    },
    {
     "output_type": "execute_result",
     "data": {
      "text/html": [
       "<div>\n",
       "<style scoped>\n",
       "    .dataframe tbody tr th:only-of-type {\n",
       "        vertical-align: middle;\n",
       "    }\n",
       "\n",
       "    .dataframe tbody tr th {\n",
       "        vertical-align: top;\n",
       "    }\n",
       "\n",
       "    .dataframe thead th {\n",
       "        text-align: right;\n",
       "    }\n",
       "</style>\n",
       "<table border=\"1\" class=\"dataframe\">\n",
       "  <thead>\n",
       "    <tr style=\"text-align: right;\">\n",
       "      <th></th>\n",
       "      <th>CustomerID</th>\n",
       "      <th>frequency</th>\n",
       "      <th>recency</th>\n",
       "      <th>T</th>\n",
       "      <th>monetary_value</th>\n",
       "      <th>probability_alive</th>\n",
       "      <th>pred_num_txn</th>\n",
       "    </tr>\n",
       "  </thead>\n",
       "  <tbody>\n",
       "    <tr>\n",
       "      <th>1</th>\n",
       "      <td>12347.0</td>\n",
       "      <td>6.0</td>\n",
       "      <td>365.0</td>\n",
       "      <td>367.0</td>\n",
       "      <td>599.701667</td>\n",
       "      <td>0.999698</td>\n",
       "      <td>0.47</td>\n",
       "    </tr>\n",
       "    <tr>\n",
       "      <th>2</th>\n",
       "      <td>12348.0</td>\n",
       "      <td>3.0</td>\n",
       "      <td>283.0</td>\n",
       "      <td>358.0</td>\n",
       "      <td>301.480000</td>\n",
       "      <td>0.999177</td>\n",
       "      <td>0.27</td>\n",
       "    </tr>\n",
       "    <tr>\n",
       "      <th>5</th>\n",
       "      <td>12352.0</td>\n",
       "      <td>6.0</td>\n",
       "      <td>260.0</td>\n",
       "      <td>296.0</td>\n",
       "      <td>368.256667</td>\n",
       "      <td>0.999406</td>\n",
       "      <td>0.56</td>\n",
       "    </tr>\n",
       "    <tr>\n",
       "      <th>9</th>\n",
       "      <td>12356.0</td>\n",
       "      <td>2.0</td>\n",
       "      <td>303.0</td>\n",
       "      <td>325.0</td>\n",
       "      <td>269.905000</td>\n",
       "      <td>0.999478</td>\n",
       "      <td>0.22</td>\n",
       "    </tr>\n",
       "    <tr>\n",
       "      <th>11</th>\n",
       "      <td>12358.0</td>\n",
       "      <td>1.0</td>\n",
       "      <td>149.0</td>\n",
       "      <td>150.0</td>\n",
       "      <td>683.200000</td>\n",
       "      <td>0.999486</td>\n",
       "      <td>0.25</td>\n",
       "    </tr>\n",
       "  </tbody>\n",
       "</table>\n",
       "</div>"
      ],
      "text/plain": [
       "    CustomerID  frequency  recency      T  monetary_value  probability_alive  \\\n",
       "1      12347.0        6.0    365.0  367.0      599.701667           0.999698   \n",
       "2      12348.0        3.0    283.0  358.0      301.480000           0.999177   \n",
       "5      12352.0        6.0    260.0  296.0      368.256667           0.999406   \n",
       "9      12356.0        2.0    303.0  325.0      269.905000           0.999478   \n",
       "11     12358.0        1.0    149.0  150.0      683.200000           0.999486   \n",
       "\n",
       "    pred_num_txn  \n",
       "1           0.47  \n",
       "2           0.27  \n",
       "5           0.56  \n",
       "9           0.22  \n",
       "11          0.25  "
      ]
     },
     "metadata": {},
     "execution_count": 22
    }
   ],
   "metadata": {}
  },
  {
   "cell_type": "code",
   "execution_count": 23,
   "source": [
    "return_customers_summary[['frequency', 'monetary_value']].corr()"
   ],
   "outputs": [
    {
     "output_type": "execute_result",
     "data": {
      "text/html": [
       "<div>\n",
       "<style scoped>\n",
       "    .dataframe tbody tr th:only-of-type {\n",
       "        vertical-align: middle;\n",
       "    }\n",
       "\n",
       "    .dataframe tbody tr th {\n",
       "        vertical-align: top;\n",
       "    }\n",
       "\n",
       "    .dataframe thead th {\n",
       "        text-align: right;\n",
       "    }\n",
       "</style>\n",
       "<table border=\"1\" class=\"dataframe\">\n",
       "  <thead>\n",
       "    <tr style=\"text-align: right;\">\n",
       "      <th></th>\n",
       "      <th>frequency</th>\n",
       "      <th>monetary_value</th>\n",
       "    </tr>\n",
       "  </thead>\n",
       "  <tbody>\n",
       "    <tr>\n",
       "      <th>frequency</th>\n",
       "      <td>1.000000</td>\n",
       "      <td>0.015906</td>\n",
       "    </tr>\n",
       "    <tr>\n",
       "      <th>monetary_value</th>\n",
       "      <td>0.015906</td>\n",
       "      <td>1.000000</td>\n",
       "    </tr>\n",
       "  </tbody>\n",
       "</table>\n",
       "</div>"
      ],
      "text/plain": [
       "                frequency  monetary_value\n",
       "frequency        1.000000        0.015906\n",
       "monetary_value   0.015906        1.000000"
      ]
     },
     "metadata": {},
     "execution_count": 23
    }
   ],
   "metadata": {}
  },
  {
   "cell_type": "markdown",
   "source": [
    "The correlation seems very weak. Hence, we can conclude that, the assumption is satisfied and we can fit the model to our data."
   ],
   "metadata": {}
  },
  {
   "cell_type": "code",
   "execution_count": 24,
   "source": [
    "ggf = lifetimes.GammaGammaFitter(penalizer_coef=0.001)\r\n",
    "ggf.fit(\r\n",
    "       return_customers_summary['frequency'],\r\n",
    "       return_customers_summary['monetary_value']\r\n",
    "       )"
   ],
   "outputs": [
    {
     "output_type": "execute_result",
     "data": {
      "text/plain": [
       "<lifetimes.GammaGammaFitter: fitted with 2790 subjects, p: 11.13, q: 0.84, v: 11.29>"
      ]
     },
     "metadata": {},
     "execution_count": 24
    }
   ],
   "metadata": {}
  },
  {
   "cell_type": "code",
   "execution_count": 25,
   "source": [
    "# Summary of the fitted parameters\r\n",
    "ggf.summary"
   ],
   "outputs": [
    {
     "output_type": "execute_result",
     "data": {
      "text/html": [
       "<div>\n",
       "<style scoped>\n",
       "    .dataframe tbody tr th:only-of-type {\n",
       "        vertical-align: middle;\n",
       "    }\n",
       "\n",
       "    .dataframe tbody tr th {\n",
       "        vertical-align: top;\n",
       "    }\n",
       "\n",
       "    .dataframe thead th {\n",
       "        text-align: right;\n",
       "    }\n",
       "</style>\n",
       "<table border=\"1\" class=\"dataframe\">\n",
       "  <thead>\n",
       "    <tr style=\"text-align: right;\">\n",
       "      <th></th>\n",
       "      <th>coef</th>\n",
       "      <th>se(coef)</th>\n",
       "      <th>lower 95% bound</th>\n",
       "      <th>upper 95% bound</th>\n",
       "    </tr>\n",
       "  </thead>\n",
       "  <tbody>\n",
       "    <tr>\n",
       "      <th>p</th>\n",
       "      <td>11.125568</td>\n",
       "      <td>0.269274</td>\n",
       "      <td>10.597792</td>\n",
       "      <td>11.653344</td>\n",
       "    </tr>\n",
       "    <tr>\n",
       "      <th>q</th>\n",
       "      <td>0.838782</td>\n",
       "      <td>0.019731</td>\n",
       "      <td>0.800110</td>\n",
       "      <td>0.877455</td>\n",
       "    </tr>\n",
       "    <tr>\n",
       "      <th>v</th>\n",
       "      <td>11.292978</td>\n",
       "      <td>0.281539</td>\n",
       "      <td>10.741162</td>\n",
       "      <td>11.844795</td>\n",
       "    </tr>\n",
       "  </tbody>\n",
       "</table>\n",
       "</div>"
      ],
      "text/plain": [
       "        coef  se(coef)  lower 95% bound  upper 95% bound\n",
       "p  11.125568  0.269274        10.597792        11.653344\n",
       "q   0.838782  0.019731         0.800110         0.877455\n",
       "v  11.292978  0.281539        10.741162        11.844795"
      ]
     },
     "metadata": {},
     "execution_count": 25
    }
   ],
   "metadata": {}
  },
  {
   "cell_type": "markdown",
   "source": [
    "Next, we can predict the expected average profit for each each transaction and CLV using below models\r\n",
    "\r\n",
    "**1. model.conditional_expected_average_profit():** This method computes the conditional expectation of the average profit per transaction for a group of one or more customers.\r\n",
    "\r\n",
    "**2. model.customer_lifetime_value():** This method computes the average lifetime value of a group of one or more customers. This method takes in BG/NBD model and the prediction horizon as a parameter to calculate the CLV.\r\n"
   ],
   "metadata": {}
  },
  {
   "cell_type": "code",
   "execution_count": 26,
   "source": [
    "df_cust = df_cust[df_cust['monetary_value'] >0]\r\n",
    "df_cust['exp_avg_revenue'] = ggf.conditional_expected_average_profit(\r\n",
    "                                                                df_cust['frequency'],\r\n",
    "                                                                df_cust['monetary_value']\r\n",
    "                                                                )\r\n",
    "df_cust.head()"
   ],
   "outputs": [
    {
     "output_type": "execute_result",
     "data": {
      "text/html": [
       "<div>\n",
       "<style scoped>\n",
       "    .dataframe tbody tr th:only-of-type {\n",
       "        vertical-align: middle;\n",
       "    }\n",
       "\n",
       "    .dataframe tbody tr th {\n",
       "        vertical-align: top;\n",
       "    }\n",
       "\n",
       "    .dataframe thead th {\n",
       "        text-align: right;\n",
       "    }\n",
       "</style>\n",
       "<table border=\"1\" class=\"dataframe\">\n",
       "  <thead>\n",
       "    <tr style=\"text-align: right;\">\n",
       "      <th></th>\n",
       "      <th>CustomerID</th>\n",
       "      <th>frequency</th>\n",
       "      <th>recency</th>\n",
       "      <th>T</th>\n",
       "      <th>monetary_value</th>\n",
       "      <th>probability_alive</th>\n",
       "      <th>pred_num_txn</th>\n",
       "      <th>exp_avg_revenue</th>\n",
       "    </tr>\n",
       "  </thead>\n",
       "  <tbody>\n",
       "    <tr>\n",
       "      <th>1</th>\n",
       "      <td>12347.0</td>\n",
       "      <td>6.0</td>\n",
       "      <td>365.0</td>\n",
       "      <td>367.0</td>\n",
       "      <td>599.701667</td>\n",
       "      <td>0.999698</td>\n",
       "      <td>0.47</td>\n",
       "      <td>603.040247</td>\n",
       "    </tr>\n",
       "    <tr>\n",
       "      <th>2</th>\n",
       "      <td>12348.0</td>\n",
       "      <td>3.0</td>\n",
       "      <td>283.0</td>\n",
       "      <td>358.0</td>\n",
       "      <td>301.480000</td>\n",
       "      <td>0.999177</td>\n",
       "      <td>0.27</td>\n",
       "      <td>306.725889</td>\n",
       "    </tr>\n",
       "    <tr>\n",
       "      <th>5</th>\n",
       "      <td>12352.0</td>\n",
       "      <td>6.0</td>\n",
       "      <td>260.0</td>\n",
       "      <td>296.0</td>\n",
       "      <td>368.256667</td>\n",
       "      <td>0.999406</td>\n",
       "      <td>0.56</td>\n",
       "      <td>371.034926</td>\n",
       "    </tr>\n",
       "    <tr>\n",
       "      <th>9</th>\n",
       "      <td>12356.0</td>\n",
       "      <td>2.0</td>\n",
       "      <td>303.0</td>\n",
       "      <td>325.0</td>\n",
       "      <td>269.905000</td>\n",
       "      <td>0.999478</td>\n",
       "      <td>0.22</td>\n",
       "      <td>277.562534</td>\n",
       "    </tr>\n",
       "    <tr>\n",
       "      <th>11</th>\n",
       "      <td>12358.0</td>\n",
       "      <td>1.0</td>\n",
       "      <td>149.0</td>\n",
       "      <td>150.0</td>\n",
       "      <td>683.200000</td>\n",
       "      <td>0.999486</td>\n",
       "      <td>0.25</td>\n",
       "      <td>704.704679</td>\n",
       "    </tr>\n",
       "  </tbody>\n",
       "</table>\n",
       "</div>"
      ],
      "text/plain": [
       "    CustomerID  frequency  recency      T  monetary_value  probability_alive  \\\n",
       "1      12347.0        6.0    365.0  367.0      599.701667           0.999698   \n",
       "2      12348.0        3.0    283.0  358.0      301.480000           0.999177   \n",
       "5      12352.0        6.0    260.0  296.0      368.256667           0.999406   \n",
       "9      12356.0        2.0    303.0  325.0      269.905000           0.999478   \n",
       "11     12358.0        1.0    149.0  150.0      683.200000           0.999486   \n",
       "\n",
       "    pred_num_txn  exp_avg_revenue  \n",
       "1           0.47       603.040247  \n",
       "2           0.27       306.725889  \n",
       "5           0.56       371.034926  \n",
       "9           0.22       277.562534  \n",
       "11          0.25       704.704679  "
      ]
     },
     "metadata": {},
     "execution_count": 26
    }
   ],
   "metadata": {}
  },
  {
   "cell_type": "markdown",
   "source": [
    "**NOTE:** The reason why I have mentioned as expected average revenue is because the monetary value we are using is actual sales value not the profit. Using the above method, we got the average revenue and finally we can multiply the result by our profit margin to arrive at actual profit value."
   ],
   "metadata": {}
  },
  {
   "cell_type": "code",
   "execution_count": 27,
   "source": [
    "print(f\"Expected Revenue: {df_cust['exp_avg_revenue'].mean()}\")\r\n",
    "print(f\"Actual Revenue: {df_cust['monetary_value'].mean()}\")"
   ],
   "outputs": [
    {
     "output_type": "stream",
     "name": "stdout",
     "text": [
      "Expected Revenue: 486.90902215126806\n",
      "Actual Revenue: 477.3803385139518\n"
     ]
    }
   ],
   "metadata": {}
  },
  {
   "cell_type": "markdown",
   "source": [
    "The values seems to be fine. Now, let's calculate the CLV directly using the method from the lifetimes package.\r\n",
    "\r\n",
    "Three main important thing to note here is:\r\n",
    "\r\n",
    "**1. time:** This parameter in customer_lifetime_value() method takes in terms of months i.e., t=1 means one month and so on.\r\n",
    "\r\n",
    "**2. freq:** This parameter is where you will specify the time unit your data is in. If your data is in daily level then \"D\", monthly \"M\" and so on.\r\n",
    "\r\n",
    "**3. discount_rate:** This parameter is based on the concept of DCF (Discounted Cash Flow), where you will discount the future monetary value by a discount rate to get the present value of that cash flow. In the documentation, it is given that for monthly it is 0.01 (annually ~12.7%). "
   ],
   "metadata": {}
  },
  {
   "cell_type": "code",
   "execution_count": 28,
   "source": [
    "# Predicting Customer Lifetime Value for the next 30 days\r\n",
    "df_cust['predicted_clv'] = ggf.customer_lifetime_value(bgf,\r\n",
    "                                                        df_cust['frequency'],\r\n",
    "                                                        df_cust['recency'],\r\n",
    "                                                        df_cust['T'],\r\n",
    "                                                        df_cust['monetary_value'],\r\n",
    "                                                        time=1,     # lifetime in months\r\n",
    "                                                        freq='D',   # frequency in which the df is present(T)      \r\n",
    "                                                        discount_rate=0.01\r\n",
    "                                                        ) # discount rate\r\n",
    "df_cust['manual_predicted_clv'] = df_cust['pred_num_txn'] * df_cust['exp_avg_revenue']\r\n",
    "print(df_cust.head())\r\n",
    "print(\"---------------------------------------\")\r\n",
    "print(f\"We'll need multiple predicted CLV by 2 methods\")\r\n"
   ],
   "outputs": [
    {
     "output_type": "stream",
     "name": "stdout",
     "text": [
      "    CustomerID  frequency  recency      T  monetary_value  probability_alive  \\\n",
      "1      12347.0        6.0    365.0  367.0      599.701667           0.999698   \n",
      "2      12348.0        3.0    283.0  358.0      301.480000           0.999177   \n",
      "5      12352.0        6.0    260.0  296.0      368.256667           0.999406   \n",
      "9      12356.0        2.0    303.0  325.0      269.905000           0.999478   \n",
      "11     12358.0        1.0    149.0  150.0      683.200000           0.999486   \n",
      "\n",
      "    pred_num_txn  exp_avg_revenue  predicted_clv  manual_predicted_clv  \n",
      "1           0.47       603.040247     280.409518            283.428916  \n",
      "2           0.27       306.725889      81.591026             82.815990  \n",
      "5           0.56       371.034926     206.034640            207.779558  \n",
      "9           0.22       277.562534      59.125290             61.063757  \n",
      "11          0.25       704.704679     174.550478            176.176170  \n",
      "---------------------------------------\n",
      "We'll need multiple predicted CLV by 2 methods\n"
     ]
    }
   ],
   "metadata": {}
  },
  {
   "cell_type": "markdown",
   "source": [
    "Both the CLV values are very close to each other and seems reasonable for the next 30 days.\r\n",
    "\r\n",
    "One thing to note here is that, both the values we have calculated for CLV is the sales value, not the **actual profit**. To get the net profit for each customer, we can either create profit value in the begining by multiplying sales value with profit margin or we can do that now."
   ],
   "metadata": {}
  },
  {
   "cell_type": "code",
   "execution_count": 29,
   "source": [
    "# CLV in terms of profit (profit margin is 5%)\r\n",
    "profit_margin = 0.05\r\n",
    "df_cust['CLV'] = df_cust['predicted_clv'] * profit_margin\r\n",
    "df_cust.head()"
   ],
   "outputs": [
    {
     "output_type": "execute_result",
     "data": {
      "text/html": [
       "<div>\n",
       "<style scoped>\n",
       "    .dataframe tbody tr th:only-of-type {\n",
       "        vertical-align: middle;\n",
       "    }\n",
       "\n",
       "    .dataframe tbody tr th {\n",
       "        vertical-align: top;\n",
       "    }\n",
       "\n",
       "    .dataframe thead th {\n",
       "        text-align: right;\n",
       "    }\n",
       "</style>\n",
       "<table border=\"1\" class=\"dataframe\">\n",
       "  <thead>\n",
       "    <tr style=\"text-align: right;\">\n",
       "      <th></th>\n",
       "      <th>CustomerID</th>\n",
       "      <th>frequency</th>\n",
       "      <th>recency</th>\n",
       "      <th>T</th>\n",
       "      <th>monetary_value</th>\n",
       "      <th>probability_alive</th>\n",
       "      <th>pred_num_txn</th>\n",
       "      <th>exp_avg_revenue</th>\n",
       "      <th>predicted_clv</th>\n",
       "      <th>manual_predicted_clv</th>\n",
       "      <th>CLV</th>\n",
       "    </tr>\n",
       "  </thead>\n",
       "  <tbody>\n",
       "    <tr>\n",
       "      <th>1</th>\n",
       "      <td>12347.0</td>\n",
       "      <td>6.0</td>\n",
       "      <td>365.0</td>\n",
       "      <td>367.0</td>\n",
       "      <td>599.701667</td>\n",
       "      <td>0.999698</td>\n",
       "      <td>0.47</td>\n",
       "      <td>603.040247</td>\n",
       "      <td>280.409518</td>\n",
       "      <td>283.428916</td>\n",
       "      <td>14.020476</td>\n",
       "    </tr>\n",
       "    <tr>\n",
       "      <th>2</th>\n",
       "      <td>12348.0</td>\n",
       "      <td>3.0</td>\n",
       "      <td>283.0</td>\n",
       "      <td>358.0</td>\n",
       "      <td>301.480000</td>\n",
       "      <td>0.999177</td>\n",
       "      <td>0.27</td>\n",
       "      <td>306.725889</td>\n",
       "      <td>81.591026</td>\n",
       "      <td>82.815990</td>\n",
       "      <td>4.079551</td>\n",
       "    </tr>\n",
       "    <tr>\n",
       "      <th>5</th>\n",
       "      <td>12352.0</td>\n",
       "      <td>6.0</td>\n",
       "      <td>260.0</td>\n",
       "      <td>296.0</td>\n",
       "      <td>368.256667</td>\n",
       "      <td>0.999406</td>\n",
       "      <td>0.56</td>\n",
       "      <td>371.034926</td>\n",
       "      <td>206.034640</td>\n",
       "      <td>207.779558</td>\n",
       "      <td>10.301732</td>\n",
       "    </tr>\n",
       "    <tr>\n",
       "      <th>9</th>\n",
       "      <td>12356.0</td>\n",
       "      <td>2.0</td>\n",
       "      <td>303.0</td>\n",
       "      <td>325.0</td>\n",
       "      <td>269.905000</td>\n",
       "      <td>0.999478</td>\n",
       "      <td>0.22</td>\n",
       "      <td>277.562534</td>\n",
       "      <td>59.125290</td>\n",
       "      <td>61.063757</td>\n",
       "      <td>2.956265</td>\n",
       "    </tr>\n",
       "    <tr>\n",
       "      <th>11</th>\n",
       "      <td>12358.0</td>\n",
       "      <td>1.0</td>\n",
       "      <td>149.0</td>\n",
       "      <td>150.0</td>\n",
       "      <td>683.200000</td>\n",
       "      <td>0.999486</td>\n",
       "      <td>0.25</td>\n",
       "      <td>704.704679</td>\n",
       "      <td>174.550478</td>\n",
       "      <td>176.176170</td>\n",
       "      <td>8.727524</td>\n",
       "    </tr>\n",
       "  </tbody>\n",
       "</table>\n",
       "</div>"
      ],
      "text/plain": [
       "    CustomerID  frequency  recency      T  monetary_value  probability_alive  \\\n",
       "1      12347.0        6.0    365.0  367.0      599.701667           0.999698   \n",
       "2      12348.0        3.0    283.0  358.0      301.480000           0.999177   \n",
       "5      12352.0        6.0    260.0  296.0      368.256667           0.999406   \n",
       "9      12356.0        2.0    303.0  325.0      269.905000           0.999478   \n",
       "11     12358.0        1.0    149.0  150.0      683.200000           0.999486   \n",
       "\n",
       "    pred_num_txn  exp_avg_revenue  predicted_clv  manual_predicted_clv  \\\n",
       "1           0.47       603.040247     280.409518            283.428916   \n",
       "2           0.27       306.725889      81.591026             82.815990   \n",
       "5           0.56       371.034926     206.034640            207.779558   \n",
       "9           0.22       277.562534      59.125290             61.063757   \n",
       "11          0.25       704.704679     174.550478            176.176170   \n",
       "\n",
       "          CLV  \n",
       "1   14.020476  \n",
       "2    4.079551  \n",
       "5   10.301732  \n",
       "9    2.956265  \n",
       "11   8.727524  "
      ]
     },
     "metadata": {},
     "execution_count": 29
    }
   ],
   "metadata": {}
  },
  {
   "cell_type": "markdown",
   "source": [
    "Finally, we predicted the CLV for each customers for the next 30 days. The marketing team could use this info to target customers and increase their sales.\r\n",
    "\r\n",
    "Also, it is hard to target each individual customers. If we have access to customer demographics data, we can first create customer segmentation and then predict the CLV value for each segments. This segment level information can then be used for personalized targeting."
   ],
   "metadata": {}
  }
 ],
 "metadata": {
  "kernelspec": {
   "name": "python3",
   "display_name": "Python 3.8.8 64-bit ('base': conda)"
  },
  "language_info": {
   "codemirror_mode": {
    "name": "ipython",
    "version": 3
   },
   "file_extension": ".py",
   "mimetype": "text/x-python",
   "name": "python",
   "nbconvert_exporter": "python",
   "pygments_lexer": "ipython3",
   "version": "3.8.8"
  },
  "interpreter": {
   "hash": "7b1197788472a4cc6363d31adf4b1d6265b22dc7282dcb10804197892731e203"
  }
 },
 "nbformat": 4,
 "nbformat_minor": 2
}